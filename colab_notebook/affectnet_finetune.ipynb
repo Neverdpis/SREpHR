{
  "cells": [
    {
      "cell_type": "markdown",
      "id": "fd23c7c0",
      "metadata": {
        "id": "fd23c7c0"
      },
      "source": [
        "# Fine-tune ResNet50 on AffectNet (class 7 excluded)\n",
        "This notebook:\n",
        "- Loads AffectNet data organized into folders `0` to `6`\n",
        "- Applies data augmentation and class balancing\n",
        "- Fine-tunes ResNet50 using PyTorch\n",
        "- Tracks loss and accuracy per epoch\n"
      ]
    },
    {
      "cell_type": "code",
      "execution_count": null,
      "id": "a25ab6d6",
      "metadata": {
        "colab": {
          "base_uri": "https://localhost:8080/"
        },
        "id": "a25ab6d6",
        "outputId": "a631089a-1d4b-4510-f26f-a0446be95f57"
      },
      "outputs": [
        {
          "output_type": "stream",
          "name": "stdout",
          "text": [
            "Mounted at /content/drive\n"
          ]
        }
      ],
      "source": [
        "from google.colab import drive\n",
        "drive.mount('/content/drive')\n",
        "SAVE_PATH = '/content/drive/MyDrive/resnet50_affectnet.pth'\n",
        "!unzip -q \"/content/drive/MyDrive/datasets.zip\" -d \"/content/datasets\""
      ]
    },
    {
      "cell_type": "code",
      "execution_count": null,
      "id": "43dda197",
      "metadata": {
        "id": "43dda197"
      },
      "outputs": [],
      "source": [
        "import os\n",
        "import shutil\n",
        "import torch\n",
        "import torch.nn as nn\n",
        "from torchvision import datasets, transforms, models\n",
        "from torch.utils.data import DataLoader\n",
        "import torch.optim as optim\n",
        "from sklearn.utils.class_weight import compute_class_weight\n",
        "from sklearn.decomposition import PCA\n",
        "from sklearn.manifold import TSNE\n",
        "import matplotlib.pyplot as plt\n",
        "import seaborn as sns\n",
        "import numpy as np\n",
        "import pandas as pd\n",
        "from tqdm import tqdm\n",
        "import time"
      ]
    },
    {
      "cell_type": "code",
      "execution_count": null,
      "id": "0a13dcbf",
      "metadata": {
        "id": "0a13dcbf"
      },
      "outputs": [],
      "source": [
        "if os.path.exists('/content/datasets/separated_dataset/7'):\n",
        "    os.makedirs('/content/data_excluded', exist_ok=True)\n",
        "    shutil.move('/content/datasets/separated_dataset/7', '/content/data_excluded/7')"
      ]
    },
    {
      "cell_type": "code",
      "execution_count": null,
      "id": "6151d4a8",
      "metadata": {
        "id": "6151d4a8"
      },
      "outputs": [],
      "source": [
        "transform = transforms.Compose([\n",
        "    transforms.Resize((224, 224)),\n",
        "    transforms.RandomHorizontalFlip(),\n",
        "    transforms.ColorJitter(0.2, 0.2),\n",
        "    transforms.ToTensor(),\n",
        "    transforms.Normalize(mean=[0.485, 0.456, 0.406],\n",
        "                         std=[0.229, 0.224, 0.225])\n",
        "])\n",
        "\n",
        "data_path = '/content/datasets/separated_dataset'\n",
        "dataset = datasets.ImageFolder(root=data_path, transform=transform)\n",
        "loader = DataLoader(dataset, batch_size=64, shuffle=True)\n",
        "\n",
        "# Compute class weights\n",
        "targets = [label for _, label in dataset.samples]\n",
        "num_classes = len(dataset.classes)\n",
        "class_weights = compute_class_weight('balanced', classes=np.arange(num_classes), y=targets)\n",
        "class_weights_tensor = torch.tensor(class_weights, dtype=torch.float32).cuda()"
      ]
    },
    {
      "cell_type": "code",
      "execution_count": null,
      "id": "c03e9837",
      "metadata": {
        "colab": {
          "base_uri": "https://localhost:8080/"
        },
        "id": "c03e9837",
        "outputId": "dae5904d-7fd7-4bf6-e94c-623a6c32ea1c"
      },
      "outputs": [
        {
          "output_type": "stream",
          "name": "stderr",
          "text": [
            "/usr/local/lib/python3.11/dist-packages/torchvision/models/_utils.py:208: UserWarning: The parameter 'pretrained' is deprecated since 0.13 and may be removed in the future, please use 'weights' instead.\n",
            "  warnings.warn(\n",
            "/usr/local/lib/python3.11/dist-packages/torchvision/models/_utils.py:223: UserWarning: Arguments other than a weight enum or `None` for 'weights' are deprecated since 0.13 and may be removed in the future. The current behavior is equivalent to passing `weights=ResNet50_Weights.IMAGENET1K_V1`. You can also use `weights=ResNet50_Weights.DEFAULT` to get the most up-to-date weights.\n",
            "  warnings.warn(msg)\n"
          ]
        }
      ],
      "source": [
        "device = torch.device('cuda' if torch.cuda.is_available() else 'cpu')\n",
        "model = models.resnet50(pretrained=True)\n",
        "model.fc = nn.Linear(model.fc.in_features, num_classes)\n",
        "model = model.to(device)\n",
        "\n",
        "criterion = nn.CrossEntropyLoss(weight=class_weights_tensor)\n",
        "optimizer = optim.Adam(model.parameters(), lr=1e-4)"
      ]
    },
    {
      "cell_type": "code",
      "execution_count": null,
      "id": "6bf9f344",
      "metadata": {
        "colab": {
          "base_uri": "https://localhost:8080/"
        },
        "id": "6bf9f344",
        "outputId": "9e67ebde-2156-4c3c-8631-3485ec98111b"
      },
      "outputs": [
        {
          "output_type": "stream",
          "name": "stderr",
          "text": [
            "Epoch 1/3: 100%|██████████| 4436/4436 [59:53<00:00,  1.23it/s]\n"
          ]
        },
        {
          "output_type": "stream",
          "name": "stdout",
          "text": [
            "Epoch 1: Loss = 1.1245, Accuracy = 0.6637, Time = 3593.67s\n"
          ]
        },
        {
          "output_type": "stream",
          "name": "stderr",
          "text": [
            "Epoch 2/3: 100%|██████████| 4436/4436 [58:44<00:00,  1.26it/s]\n"
          ]
        },
        {
          "output_type": "stream",
          "name": "stdout",
          "text": [
            "Epoch 2: Loss = 0.9845, Accuracy = 0.6990, Time = 3524.20s\n"
          ]
        },
        {
          "output_type": "stream",
          "name": "stderr",
          "text": [
            "Epoch 3/3: 100%|██████████| 4436/4436 [58:23<00:00,  1.27it/s]"
          ]
        },
        {
          "output_type": "stream",
          "name": "stdout",
          "text": [
            "Epoch 3: Loss = 0.9128, Accuracy = 0.7104, Time = 3503.74s\n"
          ]
        },
        {
          "output_type": "stream",
          "name": "stderr",
          "text": [
            "\n"
          ]
        }
      ],
      "source": [
        "epochs = 3\n",
        "model.train()\n",
        "for epoch in range(epochs):\n",
        "    start_time = time.time()\n",
        "    running_loss = 0.0\n",
        "    correct = 0\n",
        "    total = 0\n",
        "\n",
        "    for images, labels in tqdm(loader, desc=f\"Epoch {epoch+1}/{epochs}\"):\n",
        "        images, labels = images.to(device), labels.to(device)\n",
        "        optimizer.zero_grad()\n",
        "        outputs = model(images)\n",
        "        loss = criterion(outputs, labels)\n",
        "        loss.backward()\n",
        "        optimizer.step()\n",
        "\n",
        "        running_loss += loss.item() * images.size(0)\n",
        "        _, preds = torch.max(outputs, 1)\n",
        "        correct += (preds == labels).sum().item()\n",
        "        total += labels.size(0)\n",
        "\n",
        "    epoch_loss = running_loss / total\n",
        "    epoch_acc = correct / total\n",
        "    elapsed = time.time() - start_time\n",
        "    print(f\"Epoch {epoch+1}: Loss = {epoch_loss:.4f}, Accuracy = {epoch_acc:.4f}, Time = {elapsed:.2f}s\")"
      ]
    },
    {
      "cell_type": "code",
      "execution_count": null,
      "id": "4b1ef044",
      "metadata": {
        "colab": {
          "base_uri": "https://localhost:8080/"
        },
        "id": "4b1ef044",
        "outputId": "8bf1000e-af9a-45a0-8f80-87a945aaae12"
      },
      "outputs": [
        {
          "output_type": "stream",
          "name": "stdout",
          "text": [
            "Model saved to /content/drive/MyDrive/resnet50_affectnet.pth\n"
          ]
        }
      ],
      "source": [
        "torch.save(model.state_dict(), SAVE_PATH)\n",
        "print(f\"Model saved to {SAVE_PATH}\")"
      ]
    }
  ],
  "metadata": {
    "colab": {
      "provenance": [],
      "gpuType": "T4"
    },
    "accelerator": "GPU",
    "language_info": {
      "name": "python"
    },
    "kernelspec": {
      "name": "python3",
      "display_name": "Python 3"
    }
  },
  "nbformat": 4,
  "nbformat_minor": 5
}
